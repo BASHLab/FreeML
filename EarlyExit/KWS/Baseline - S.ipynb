{
 "cells": [
  {
   "cell_type": "code",
   "execution_count": 1,
   "id": "1789c064",
   "metadata": {},
   "outputs": [],
   "source": [
    "import os\n",
    "os.environ[\"CUDA_VISIBLE_DEVICES\"]=\"0\""
   ]
  },
  {
   "cell_type": "code",
   "execution_count": 2,
   "id": "5c99866f",
   "metadata": {},
   "outputs": [
    {
     "name": "stderr",
     "output_type": "stream",
     "text": [
      "2023-06-07 12:19:25.132066: I tensorflow/core/platform/cpu_feature_guard.cc:182] This TensorFlow binary is optimized to use available CPU instructions in performance-critical operations.\n",
      "To enable the following instructions: AVX2 FMA, in other operations, rebuild TensorFlow with the appropriate compiler flags.\n",
      "2023-06-07 12:19:25.655696: W tensorflow/compiler/tf2tensorrt/utils/py_utils.cc:38] TF-TRT Warning: Could not find TensorRT\n"
     ]
    }
   ],
   "source": [
    "import shutil\n",
    "import warnings\n",
    "warnings.filterwarnings(\"ignore\")\n",
    "import tensorflow \n",
    "import os\n",
    "import librosa\n",
    "import IPython.display as ipd\n",
    "import matplotlib.pyplot as plt\n",
    "import numpy as np\n",
    "import noisereduce as nr\n",
    "import torch\n",
    "import torch.nn as nn\n",
    "import torch.nn.functional as F\n",
    "import torch.optim as optim\n",
    "from torch.utils.data import DataLoader\n",
    "from scipy.io import wavfile\n",
    "from sklearn.preprocessing import LabelEncoder\n",
    "from matplotlib import pyplot\n",
    "from sklearn.model_selection import train_test_split\n",
    "from sklearn.metrics import confusion_matrix, accuracy_score, classification_report, ConfusionMatrixDisplay"
   ]
  },
  {
   "cell_type": "code",
   "execution_count": 3,
   "id": "2e2bac93",
   "metadata": {},
   "outputs": [],
   "source": [
    "class Classifier(nn.Module):\n",
    "    def __init__(self, num_class):\n",
    "        super(Classifier, self).__init__()\n",
    "        self.num_class = num_class\n",
    "        self.conv1 = nn.Conv1d(in_channels=1, out_channels=8, kernel_size=13, padding=\"valid\", stride=1)\n",
    "        self.pool1 = nn.MaxPool1d(kernel_size=3)\n",
    "        self.drop1 = nn.Dropout(p=0.4)\n",
    "        \n",
    "        self.conv2 = nn.Conv1d(in_channels=8, out_channels=16, kernel_size=11, padding=\"valid\", stride=1)\n",
    "        self.pool2 = nn.MaxPool1d(kernel_size=3)\n",
    "        self.drop2 = nn.Dropout(p=0.4)\n",
    "        \n",
    "        self.conv3 = nn.Conv1d(in_channels=16, out_channels=32, kernel_size=9, padding=\"valid\", stride=1)\n",
    "        self.pool3 = nn.MaxPool1d(kernel_size=3)\n",
    "        self.drop3 = nn.Dropout(p=0.4)\n",
    "        \n",
    "        self.conv4 = nn.Conv1d(in_channels=32, out_channels=64, kernel_size=7, padding=\"valid\", stride=1)\n",
    "        self.pool4 = nn.MaxPool1d(kernel_size=3)\n",
    "        self.drop4 = nn.Dropout(p=0.3)\n",
    "        \n",
    "        self.flatten = nn.Flatten()\n",
    "        \n",
    "        self.fc1 = nn.Linear(in_features=6080, out_features=256)\n",
    "        self.fc2 = nn.Linear(in_features=256, out_features=128)\n",
    "        self.drop5 = nn.Dropout(p=0.4)\n",
    "        self.out = nn.Linear(in_features=128, out_features=self.num_class)\n",
    "        \n",
    "    def forward(self, x):\n",
    "        intermediate_results = []\n",
    "        \n",
    "        x = self.conv1(x)\n",
    "        x = F.relu(x)\n",
    "        x = self.pool1(x)\n",
    "        x = self.drop1(x)\n",
    "        intermediate_results.append(x)\n",
    "        \n",
    "        x = self.conv2(x)\n",
    "        x = F.relu(x)\n",
    "        x = self.pool2(x)\n",
    "        x = self.drop2(x)\n",
    "        intermediate_results.append(x)\n",
    "        \n",
    "        x = self.conv3(x)\n",
    "        x = F.relu(x)\n",
    "        x = self.pool3(x)\n",
    "        x = self.drop3(x)\n",
    "        intermediate_results.append(x)\n",
    "        \n",
    "        x = self.conv4(x)\n",
    "        x = F.relu(x)\n",
    "        x = self.pool4(x)\n",
    "        x = self.drop4(x)\n",
    "        intermediate_results.append(x)\n",
    "        \n",
    "        x = self.flatten(x)\n",
    "        \n",
    "        x = self.fc1(x)\n",
    "        x = F.relu(x)\n",
    "        x = self.fc2(x)\n",
    "        x = F.relu(x)\n",
    "        x = self.drop5(x)\n",
    "        scores = self.out(x)\n",
    "        return scores, intermediate_results"
   ]
  },
  {
   "cell_type": "code",
   "execution_count": 4,
   "id": "aea84e53",
   "metadata": {},
   "outputs": [
    {
     "name": "stdout",
     "output_type": "stream",
     "text": [
      "yes\n",
      "no\n",
      "up\n",
      "down\n",
      "left\n",
      "right\n",
      "on\n",
      "off\n",
      "stop\n",
      "go\n",
      "shape of waves array (21312, 8000)\n",
      "shape of labels array (21312,)\n"
     ]
    }
   ],
   "source": [
    "train_audio_path = '../../google_speech_commands/'\n",
    "labels = []\n",
    "for folder in os.listdir(train_audio_path):\n",
    "    if os.path.isdir(os.path.join(train_audio_path, folder)) and not folder.startswith(\".\"):\n",
    "        labels.append(folder)\n",
    "labels=[\"yes\", \"no\", \"up\", \"down\", \"left\", \"right\", \"on\", \"off\", \"stop\", \"go\"]\n",
    "\n",
    "sr=8000   # sample rate\n",
    "# vad = malaya_speech.vad.webrtc()\n",
    "all_wave = []\n",
    "all_label = []\n",
    "for label in labels:\n",
    "    print(label)\n",
    "    waves = [f for f in os.listdir(train_audio_path + '/'+ label) if f.endswith('.wav')]\n",
    "    for wav in waves:\n",
    "        samples, sample_rate = librosa.load(train_audio_path + '/' + label + '/' + wav, sr = 16000)\n",
    "        samples = librosa.resample(samples, orig_sr=sample_rate, target_sr=8000)\n",
    "        if(len(samples)== 8000) : \n",
    "            all_wave.append(samples)\n",
    "            all_label.append(label)\n",
    "\n",
    "print(\"shape of waves array\",np.array(all_wave).shape)\n",
    "print(\"shape of labels array\",np.array(all_label).shape)"
   ]
  },
  {
   "cell_type": "code",
   "execution_count": 13,
   "id": "40d4cced",
   "metadata": {},
   "outputs": [],
   "source": [
    "le = LabelEncoder()\n",
    "y = le.fit_transform(all_label)\n",
    "classes = list(le.classes_)\n",
    "\n",
    "# y = np_utils.to_categorical(y, num_classes=len(labels))\n",
    "# y = np.eye(len(classes))[y]\n",
    "\n",
    "all_wave = np.array(all_wave).reshape(-1, 1, 8000)\n",
    "\n",
    "x_tr, x_val, y_tr, y_val = train_test_split(\n",
    "    np.array(all_wave),np.array(y),\n",
    "    stratify=y,test_size = 0.3,random_state=122,shuffle=True)"
   ]
  },
  {
   "cell_type": "code",
   "execution_count": 14,
   "id": "673efabd",
   "metadata": {},
   "outputs": [],
   "source": [
    "class Dataset:\n",
    "    def __init__(self, X, y):\n",
    "        assert X.shape[0] == y.shape[0], 'Got different numbers of data and labels'\n",
    "        self.X, self.y = X, y\n",
    "\n",
    "    def __len__(self):\n",
    "        return self.X.shape[0]\n",
    "\n",
    "    def __getitem__(self, idx):\n",
    "        x, y = self.X[idx], self.y[idx]\n",
    "        return x, y"
   ]
  },
  {
   "cell_type": "code",
   "execution_count": 15,
   "id": "062718ee",
   "metadata": {},
   "outputs": [],
   "source": [
    "dataset = Dataset(\n",
    "    X=x_tr,\n",
    "    y=y_tr\n",
    ")\n",
    "train_loader = DataLoader(\n",
    "    dataset=dataset,\n",
    "    batch_size=128,\n",
    "    shuffle=True\n",
    ")\n",
    "dataset = Dataset(\n",
    "    X=x_val,\n",
    "    y=y_val\n",
    ")\n",
    "val_loader = DataLoader(\n",
    "    dataset=dataset,\n",
    "    batch_size=128,\n",
    "    shuffle=True\n",
    ")"
   ]
  },
  {
   "cell_type": "code",
   "execution_count": 16,
   "id": "f6c5678a",
   "metadata": {},
   "outputs": [
    {
     "name": "stdout",
     "output_type": "stream",
     "text": [
      "torch.Size([128, 1, 8000]) torch.Size([128])\n",
      "torch.Size([128, 1, 8000]) torch.Size([128])\n",
      "torch.Size([128, 1, 8000]) torch.Size([128])\n",
      "torch.Size([128, 1, 8000]) torch.Size([128])\n",
      "torch.Size([128, 1, 8000]) torch.Size([128])\n",
      "torch.Size([128, 1, 8000]) torch.Size([128])\n"
     ]
    }
   ],
   "source": [
    "for i, (x, y) in enumerate(train_loader):\n",
    "    print(x.shape, y.shape)\n",
    "    if i>4:\n",
    "        break"
   ]
  },
  {
   "cell_type": "code",
   "execution_count": 17,
   "id": "256ef2e0",
   "metadata": {},
   "outputs": [],
   "source": [
    "device = torch.device(\"cuda:0\" if torch.cuda.is_available() else \"cpu\")"
   ]
  },
  {
   "cell_type": "code",
   "execution_count": 18,
   "id": "546cb9e7",
   "metadata": {},
   "outputs": [],
   "source": [
    "model = Classifier(num_class=10).to(device)"
   ]
  },
  {
   "cell_type": "code",
   "execution_count": 21,
   "id": "128da9a7",
   "metadata": {},
   "outputs": [],
   "source": [
    "criterion = nn.CrossEntropyLoss()\n",
    "optimizer = optim.Adam(model.parameters(), lr=1e-3)\n",
    "epochs = 100"
   ]
  },
  {
   "cell_type": "code",
   "execution_count": 22,
   "id": "43f0000a",
   "metadata": {},
   "outputs": [
    {
     "name": "stdout",
     "output_type": "stream",
     "text": [
      "Epoch[1]: t_loss: 2.30172 t_acc: 10.42365 v_loss: 2.29555 v_acc: 13.70034\n",
      "Epoch[2]: t_loss: 2.22767 t_acc: 16.05443 v_loss: 2.13204 v_acc: 20.55052\n",
      "Epoch[3]: t_loss: 1.94337 t_acc: 27.95281 v_loss: 1.89804 v_acc: 30.95089\n",
      "Epoch[4]: t_loss: 1.61585 t_acc: 38.65129 v_loss: 1.55865 v_acc: 41.00719\n",
      "Epoch[5]: t_loss: 1.39934 t_acc: 46.48746 v_loss: 1.46428 v_acc: 43.10291\n",
      "Epoch[6]: t_loss: 1.3122 t_acc: 49.72516 v_loss: 1.36482 v_acc: 47.51329\n",
      "Epoch[7]: t_loss: 1.22881 t_acc: 52.92935 v_loss: 1.29512 v_acc: 50.09384\n",
      "Epoch[8]: t_loss: 1.15714 t_acc: 55.79836 v_loss: 1.26583 v_acc: 51.07914\n",
      "Epoch[9]: t_loss: 1.0996 t_acc: 58.19145 v_loss: 1.1657 v_acc: 56.41226\n",
      "Epoch[10]: t_loss: 1.02486 t_acc: 60.65827 v_loss: 1.08926 v_acc: 59.32124\n",
      "Epoch[11]: t_loss: 0.96519 t_acc: 63.58761 v_loss: 0.97529 v_acc: 65.76478\n",
      "Epoch[12]: t_loss: 0.8995 t_acc: 65.7863 v_loss: 0.90392 v_acc: 68.04817\n",
      "Epoch[13]: t_loss: 0.85312 t_acc: 68.6151 v_loss: 0.91116 v_acc: 68.73632\n",
      "Epoch[14]: t_loss: 0.79394 t_acc: 71.30312 v_loss: 0.83364 v_acc: 71.31686\n",
      "Epoch[15]: t_loss: 0.74242 t_acc: 73.18005 v_loss: 0.80728 v_acc: 72.81827\n",
      "Epoch[16]: t_loss: 0.69864 t_acc: 75.02346 v_loss: 0.76537 v_acc: 73.58461\n",
      "Epoch[17]: t_loss: 0.66541 t_acc: 75.76753 v_loss: 0.72111 v_acc: 75.66469\n",
      "Epoch[18]: t_loss: 0.62566 t_acc: 77.95951 v_loss: 0.68407 v_acc: 76.64998\n",
      "Epoch[19]: t_loss: 0.61336 t_acc: 78.00644 v_loss: 0.72576 v_acc: 75.35189\n",
      "Epoch[20]: t_loss: 0.5857 t_acc: 78.81754 v_loss: 0.69481 v_acc: 77.29121\n",
      "Epoch[21]: t_loss: 0.55575 t_acc: 79.85655 v_loss: 0.67696 v_acc: 77.7604\n",
      "Epoch[22]: t_loss: 0.53769 t_acc: 80.20512 v_loss: 0.63658 v_acc: 78.38599\n",
      "Epoch[23]: t_loss: 0.50812 t_acc: 81.39831 v_loss: 0.65775 v_acc: 78.93338\n",
      "Epoch[24]: t_loss: 0.47909 t_acc: 82.87974 v_loss: 0.61893 v_acc: 79.5746\n",
      "Epoch[25]: t_loss: 0.47949 t_acc: 82.7993 v_loss: 0.62532 v_acc: 79.71536\n",
      "Epoch[26]: t_loss: 0.46015 t_acc: 83.12777 v_loss: 0.64924 v_acc: 78.6675\n",
      "Epoch[27]: t_loss: 0.44787 t_acc: 84.03942 v_loss: 0.63109 v_acc: 79.23053\n",
      "Epoch[28]: t_loss: 0.44183 t_acc: 84.26733 v_loss: 0.62561 v_acc: 78.69878\n",
      "Epoch[29]: t_loss: 0.41113 t_acc: 85.41359 v_loss: 0.60975 v_acc: 79.91867\n",
      "Epoch[30]: t_loss: 0.39702 t_acc: 85.8225 v_loss: 0.66847 v_acc: 78.49546\n",
      "Epoch[31]: t_loss: 0.38914 t_acc: 85.88953 v_loss: 0.624 v_acc: 79.82484\n",
      "Epoch[32]: t_loss: 0.3942 t_acc: 85.92975 v_loss: 0.59928 v_acc: 80.76322\n",
      "Epoch[33]: t_loss: 0.37076 t_acc: 86.62689 v_loss: 0.62799 v_acc: 80.34094\n",
      "Epoch[34]: t_loss: 0.34719 t_acc: 87.27041 v_loss: 0.59056 v_acc: 81.21677\n",
      "Epoch[35]: t_loss: 0.34866 t_acc: 87.06931 v_loss: 0.60217 v_acc: 81.16985\n",
      "Epoch[36]: t_loss: 0.34714 t_acc: 87.61898 v_loss: 0.64023 v_acc: 80.4817\n",
      "Epoch[37]: t_loss: 0.33696 t_acc: 87.88041 v_loss: 0.65051 v_acc: 80.04379\n",
      "Epoch[38]: t_loss: 0.32808 t_acc: 88.19547 v_loss: 0.59503 v_acc: 81.68596\n",
      "Epoch[39]: t_loss: 0.32051 t_acc: 88.12173 v_loss: 0.66062 v_acc: 79.6528\n",
      "Epoch[40]: t_loss: 0.31228 t_acc: 88.47701 v_loss: 0.64252 v_acc: 80.4035\n",
      "Epoch[41]: t_loss: 0.30582 t_acc: 88.91943 v_loss: 0.64075 v_acc: 80.96653\n",
      "Epoch[42]: t_loss: 0.30515 t_acc: 89.13393 v_loss: 0.62184 v_acc: 81.26368\n",
      "Epoch[43]: t_loss: 0.28849 t_acc: 89.48921 v_loss: 0.61611 v_acc: 81.92055\n",
      "Epoch[44]: t_loss: 0.28411 t_acc: 89.73723 v_loss: 0.63773 v_acc: 81.29496\n",
      "Finished Training\n",
      "Best model saved at epoch:  34\n"
     ]
    }
   ],
   "source": [
    "best_val_epoch, best_val_loss = 0, 1e6\n",
    "break_flag = 0\n",
    "for epoch in range(epochs):  # loop over the dataset multiple times\n",
    "    model.train()\n",
    "    t_loss = 0\n",
    "    correct = 0\n",
    "    total = 0\n",
    "    for i, data in enumerate(train_loader):\n",
    "        audios, labels = data\n",
    "        audios, labels = audios.to(device), labels.to(device)\n",
    "        optimizer.zero_grad()\n",
    "        outputs, _ = model(audios)\n",
    "        loss = criterion(outputs, labels)\n",
    "        t_loss += loss.item()\n",
    "        loss.backward()\n",
    "        optimizer.step()\n",
    "        _, predicted = torch.max(outputs.data, 1)\n",
    "        total += labels.size(0)\n",
    "        correct += (predicted == labels).sum().item()\n",
    "    t_loss = t_loss / (i+1)\n",
    "    t_loss = round(t_loss, 5)\n",
    "    t_acc = round(100*(correct / total), 5)\n",
    "    model.eval()\n",
    "    v_loss = 0\n",
    "    correct = 0\n",
    "    total = 0\n",
    "    for i, data in enumerate(val_loader):\n",
    "        audios, labels = data\n",
    "        audios, labels = audios.to(device), labels.to(device)\n",
    "        outputs, _ = model(audios)\n",
    "        loss = criterion(outputs, labels)\n",
    "        v_loss += loss.item()\n",
    "        _, predicted = torch.max(outputs.data, 1)\n",
    "        total += labels.size(0)\n",
    "        correct += (predicted == labels).sum().item()\n",
    "    v_loss = v_loss/(i+1)\n",
    "    v_loss = round(v_loss, 5)\n",
    "    v_acc = round(100*(correct / total), 5)\n",
    "    if v_loss <= best_val_loss:\n",
    "        torch.save(model.state_dict(), \"kws_baseline_s.h5\")\n",
    "        best_val_epoch = epoch + 1\n",
    "        best_val_loss = v_loss\n",
    "        break_flag = 0\n",
    "    else:\n",
    "        break_flag += 1\n",
    "    print(f'Epoch[{epoch+1}]: t_loss: {t_loss} t_acc: {t_acc} v_loss: {v_loss} v_acc: {v_acc}')\n",
    "    if break_flag >9 :\n",
    "        break\n",
    "print('Finished Training')\n",
    "print('Best model saved at epoch: ', best_val_epoch)"
   ]
  },
  {
   "cell_type": "code",
   "execution_count": 23,
   "id": "0a93c00d",
   "metadata": {},
   "outputs": [
    {
     "name": "stdout",
     "output_type": "stream",
     "text": [
      "Test accuracy: 81.2167657178605\n"
     ]
    }
   ],
   "source": [
    "model.load_state_dict(torch.load(\"kws_baseline_s.h5\", map_location='cpu'))\n",
    "correct = 0\n",
    "total = 0\n",
    "pred, actual = [], []\n",
    "with torch.no_grad():\n",
    "    for i, data in enumerate(val_loader):\n",
    "        audios, labels = data\n",
    "        audios, labels = audios.to(device), labels.to(device)\n",
    "        outputs, _ = model(audios)\n",
    "        _, predicted = torch.max(outputs.data, 1)\n",
    "        total += labels.size(0)\n",
    "        correct += (predicted == labels).sum().item()\n",
    "        pred = pred + list(predicted.detach().cpu().numpy())\n",
    "        actual = actual + list(labels.detach().cpu().numpy())\n",
    "print(f'Test accuracy: {100 * correct /total}')  "
   ]
  },
  {
   "cell_type": "code",
   "execution_count": 24,
   "id": "f96ffeac",
   "metadata": {},
   "outputs": [
    {
     "name": "stdout",
     "output_type": "stream",
     "text": [
      "Classification Report\n",
      "              precision    recall  f1-score   support\n",
      "\n",
      "           0       0.79      0.81      0.80       646\n",
      "           1       0.78      0.71      0.74       630\n",
      "           2       0.82      0.72      0.77       650\n",
      "           3       0.74      0.83      0.78       629\n",
      "           4       0.84      0.81      0.82       643\n",
      "           5       0.84      0.84      0.84       631\n",
      "           6       0.81      0.89      0.85       647\n",
      "           7       0.91      0.82      0.86       652\n",
      "           8       0.85      0.79      0.82       619\n",
      "           9       0.77      0.90      0.83       647\n",
      "\n",
      "    accuracy                           0.81      6394\n",
      "   macro avg       0.81      0.81      0.81      6394\n",
      "weighted avg       0.81      0.81      0.81      6394\n",
      "\n"
     ]
    },
    {
     "data": {
      "image/png": "[encoded data removed]",
      "text/plain": [
       "<Figure size 1000x1000 with 2 Axes>"
      ]
     },
     "metadata": {},
     "output_type": "display_data"
    }
   ],
   "source": [
    "labels = [\"yes\", \"no\", \"up\", \"down\", \"left\", \"right\", \"on\", \"off\", \"stop\", \"go\"]\n",
    "print('Classification Report')\n",
    "print(classification_report(actual, pred))\n",
    "cm = confusion_matrix(actual, pred)\n",
    "display = ConfusionMatrixDisplay(confusion_matrix=cm)\n",
    "fig, ax = plt.subplots(figsize=(10,10))\n",
    "display.plot(ax=ax, cmap=plt.cm.Blues, values_format='g')\n",
    "ax.set_xlabel('Predicted labels')\n",
    "ax.set_ylabel('True labels')\n",
    "ax.set_title('Confusion Matrix')\n",
    "ax.xaxis.set_ticklabels(labels, rotation = 90)\n",
    "ax.yaxis.set_ticklabels(labels)\n",
    "plt.show()"
   ]
  }
 ],
 "metadata": {
  "kernelspec": {
   "display_name": "Python 3 (ipykernel)",
   "language": "python",
   "name": "python3"
  },
  "language_info": {
   "codemirror_mode": {
    "name": "ipython",
    "version": 3
   },
   "file_extension": ".py",
   "mimetype": "text/x-python",
   "name": "python",
   "nbconvert_exporter": "python",
   "pygments_lexer": "ipython3",
   "version": "3.8.10"
  }
 },
 "nbformat": 4,
 "nbformat_minor": 5
}
