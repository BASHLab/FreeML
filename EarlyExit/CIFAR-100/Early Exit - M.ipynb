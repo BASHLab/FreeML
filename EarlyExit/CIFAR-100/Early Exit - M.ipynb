{
 "cells": [
  {
   "cell_type": "code",
   "execution_count": 1,
   "id": "1e03c01f",
   "metadata": {},
   "outputs": [],
   "source": [
    "import os\n",
    "os.environ[\"CUDA_VISIBLE_DEVICES\"]=\"0\""
   ]
  },
  {
   "cell_type": "code",
   "execution_count": 2,
   "id": "3ca17492",
   "metadata": {},
   "outputs": [],
   "source": [
    "import random\n",
    "import torch\n",
    "import torchvision\n",
    "import numpy as np\n",
    "import matplotlib.pyplot as plt\n",
    "import torch.nn as nn\n",
    "import torch.nn.functional as F\n",
    "import torch.optim as optim\n",
    "from torchvision.datasets import CIFAR100\n",
    "from torchvision.transforms import ToTensor\n",
    "from torch.utils.data.dataloader import DataLoader\n",
    "from torch.utils.data import random_split\n",
    "from sklearn.metrics import confusion_matrix, classification_report, ConfusionMatrixDisplay"
   ]
  },
  {
   "cell_type": "code",
   "execution_count": 3,
   "id": "f8e8d02e",
   "metadata": {},
   "outputs": [
    {
     "data": {
      "text/plain": [
       "<torch._C.Generator at 0x7f3140374850>"
      ]
     },
     "execution_count": 3,
     "metadata": {},
     "output_type": "execute_result"
    }
   ],
   "source": [
    "np.random.seed(42)\n",
    "torch.manual_seed(42)"
   ]
  },
  {
   "cell_type": "code",
   "execution_count": 4,
   "id": "330939de",
   "metadata": {},
   "outputs": [],
   "source": [
    "class Baseline(nn.Module):\n",
    "    def __init__(self):\n",
    "        super(Baseline, self).__init__()\n",
    "        self.conv1 = nn.Conv2d(in_channels=3, out_channels=32, kernel_size=3, padding=\"same\")\n",
    "        self.conv2 = nn.Conv2d(in_channels=32, out_channels=32, kernel_size=3, padding=\"same\")\n",
    "        self.pool1 = nn.MaxPool2d(kernel_size=2)\n",
    "        self.bn1 = nn.BatchNorm2d(num_features=32)\n",
    "        self.bn2 = nn.BatchNorm2d(num_features=32)\n",
    "        self.dropout1 = nn.Dropout(p=0.2)\n",
    "        \n",
    "        self.conv3 = nn.Conv2d(in_channels=32, out_channels=64, kernel_size=3, padding=\"same\")\n",
    "        self.conv4 = nn.Conv2d(in_channels=64, out_channels=64, kernel_size=3, padding=\"same\")\n",
    "        self.pool2 = nn.MaxPool2d(kernel_size=2)\n",
    "        self.bn3 = nn.BatchNorm2d(num_features=64)\n",
    "        self.bn4 = nn.BatchNorm2d(num_features=64)\n",
    "        self.dropout2 = nn.Dropout(p=0.3)\n",
    "        \n",
    "        self.conv5 = nn.Conv2d(in_channels=64, out_channels=128, kernel_size=3, padding=\"same\")\n",
    "        self.conv6 = nn.Conv2d(in_channels=128, out_channels=128, kernel_size=3, padding=\"same\")\n",
    "        self.pool3 = nn.MaxPool2d(kernel_size=2)\n",
    "        self.bn5 = nn.BatchNorm2d(num_features=128)\n",
    "        self.bn6 = nn.BatchNorm2d(num_features=128)\n",
    "        self.dropout3 = nn.Dropout(p=0.4)\n",
    "        \n",
    "        self.flatten = nn.Flatten()\n",
    "        \n",
    "        self.fc1 = nn.Linear(in_features=2048, out_features=128)\n",
    "        self.fc2 = nn.Linear(in_features=128, out_features=128)\n",
    "        self.fc3 = nn.Linear(in_features=128, out_features=128)\n",
    "        self.fc4 = nn.Linear(in_features=128, out_features=128)\n",
    "        self.bn7 = nn.BatchNorm1d(num_features=128)\n",
    "        self.dropout4 = nn.Dropout(p=0.5)\n",
    "        self.fc5 = nn.Linear(in_features=128, out_features=100)\n",
    "        \n",
    "        \n",
    "    def forward(self, x):\n",
    "        outputs = []\n",
    "        x = self.conv1(x)\n",
    "        x = F.relu(x)\n",
    "        x = self.bn1(x)\n",
    "        outputs.append(x)\n",
    "        x = self.conv2(x)\n",
    "        x = F.relu(x)\n",
    "        x = self.bn2(x)\n",
    "        x = self.pool1(x)\n",
    "        x = self.dropout1(x)\n",
    "        outputs.append(x)\n",
    "        \n",
    "        x = self.conv3(x)\n",
    "        x = F.relu(x)\n",
    "        x = self.bn3(x)\n",
    "        outputs.append(x)\n",
    "        x = self.conv4(x)\n",
    "        x = F.relu(x)\n",
    "        x = self.bn4(x)\n",
    "        x = self.pool2(x)\n",
    "        x = self.dropout2(x)\n",
    "        outputs.append(x)\n",
    "        \n",
    "        x = self.conv5(x)\n",
    "        x = F.relu(x)\n",
    "        x = self.bn5(x)\n",
    "        outputs.append(x)\n",
    "        x = self.conv6(x)\n",
    "        x = F.relu(x)\n",
    "        x = self.bn6(x)\n",
    "        x = self.pool3(x)\n",
    "        x = self.dropout3(x)\n",
    "        outputs.append(x)\n",
    "        \n",
    "        x = self.flatten(x)\n",
    "        x = self.fc1(x)\n",
    "        x = F.relu(x)\n",
    "        x = self.fc2(x)\n",
    "        x = F.relu(x)\n",
    "        x = self.fc3(x)\n",
    "        x = F.relu(x)\n",
    "        x = self.fc4(x)\n",
    "        x = F.relu(x)\n",
    "        x = self.bn7(x)\n",
    "        x = self.dropout4(x)\n",
    "        scores = self.fc5(x)\n",
    "        \n",
    "        return scores, outputs"
   ]
  },
  {
   "cell_type": "code",
   "execution_count": 5,
   "id": "f88edaa4",
   "metadata": {},
   "outputs": [],
   "source": [
    "class GeneralEEModel(nn.Module):\n",
    "    def __init__(self):\n",
    "        super(GeneralEEModel, self).__init__()\n",
    "        self.pool_kernels = [\n",
    "            (1, 4, 4), (1, 2, 2), (1, 2, 2), (1, 1, 1), (1, 1, 1)\n",
    "        ]\n",
    "#         self.conv = nn.Conv2d(in_channels=320, out_channels=16, kernel_size=3, padding=\"same\")\n",
    "#         self.bn = nn.BatchNorm2d(num_features=16)\n",
    "        self.flatten = nn.Flatten()\n",
    "        self.fc = nn.Linear(in_features=20480, out_features=100)\n",
    "    \n",
    "    def forward(self, x, inference=False):\n",
    "        pooled_outs = []\n",
    "        for layer, out in enumerate(x):\n",
    "            pool_3d = nn.MaxPool3d(kernel_size=self.pool_kernels[layer])\n",
    "            pooled_outs.append(pool_3d(out))\n",
    "        x = torch.cat(pooled_outs, dim=1)\n",
    "#         if not inference:\n",
    "#             indices = list(np.arange(x.shape[1]))\n",
    "#             random.shuffle(indices)\n",
    "#             x = x[:, indices, :, : ]\n",
    "#         x = self.conv(x)\n",
    "#         x = F.relu(x)\n",
    "#         x = self.bn(x)\n",
    "        x = self.flatten(x)\n",
    "        scores = self.fc(x)\n",
    "        return scores"
   ]
  },
  {
   "cell_type": "code",
   "execution_count": 6,
   "id": "dde448d6",
   "metadata": {},
   "outputs": [],
   "source": [
    "def train(baseline, exit_model, layer, epochs, criterion, \n",
    "          optimizer, train_loader, val_loader, model_name, gen_ee=False):\n",
    "    best_val_epoch, best_val_loss = 0, 1e6\n",
    "    break_flag = 0\n",
    "    for epoch in range(epochs):  # loop over the dataset multiple times\n",
    "        exit_model.train()\n",
    "        t_loss = 0\n",
    "        correct = 0\n",
    "        total = 0\n",
    "        for i, data in enumerate(train_loader):\n",
    "            images, labels = data\n",
    "            images, labels = images.to(device), labels.to(device)\n",
    "            optimizer.zero_grad()\n",
    "            _, outs = baseline(images)\n",
    "            if gen_ee:\n",
    "                outs, choice = simulate_exit(outs)\n",
    "                out = outs\n",
    "            else:\n",
    "                out = outs[layer]\n",
    "            outputs = exit_model(out)\n",
    "            loss = criterion(outputs, labels)\n",
    "            t_loss += loss.item()\n",
    "            loss.backward()\n",
    "            optimizer.step()\n",
    "            _, predicted = torch.max(outputs.data, 1)\n",
    "            total += labels.size(0)\n",
    "            correct += (predicted == labels).sum().item()\n",
    "        t_loss = t_loss / (i+1)\n",
    "        t_loss = round(t_loss, 5)\n",
    "        t_acc = round(100*(correct / total), 5)\n",
    "        exit_model.eval()\n",
    "        v_loss = 0\n",
    "        correct = 0\n",
    "        total = 0\n",
    "        for i, data in enumerate(val_loader):\n",
    "            images, labels = data\n",
    "            images, labels = images.to(device), labels.to(device)\n",
    "            _, outs = baseline(images)\n",
    "            if gen_ee:\n",
    "                outs, choice = simulate_exit(outs)\n",
    "                out = outs\n",
    "            else:\n",
    "                out = outs[layer]\n",
    "            outputs = exit_model(out)\n",
    "            loss = criterion(outputs, labels)\n",
    "            v_loss += loss.item()\n",
    "            _, predicted = torch.max(outputs.data, 1)\n",
    "            total += labels.size(0)\n",
    "            correct += (predicted == labels).sum().item()\n",
    "        v_loss = v_loss/(i+1)\n",
    "        v_loss = round(v_loss, 5)\n",
    "        v_acc = round(100*(correct / total), 5)\n",
    "        if v_loss <= best_val_loss:\n",
    "            torch.save(exit_model.state_dict(), model_name)\n",
    "            best_val_epoch = epoch + 1\n",
    "            best_val_loss = v_loss\n",
    "            break_flag = 0\n",
    "        else:\n",
    "            break_flag += 1\n",
    "        print(f'Epoch[{epoch+1}]: t_loss: {t_loss} t_acc: {t_acc} v_loss: {v_loss} v_acc: {v_acc}')\n",
    "        if break_flag >19 :\n",
    "            break\n",
    "    print('Finished Training')\n",
    "    print('Best model saved at epoch: ', best_val_epoch)"
   ]
  },
  {
   "cell_type": "code",
   "execution_count": 8,
   "id": "7b540512",
   "metadata": {},
   "outputs": [],
   "source": [
    "def simulate_exit(x, choice=None):\n",
    "    if choice is not None:\n",
    "        choice = choice\n",
    "    else:\n",
    "        choice = np.random.choice(np.arange(0, 5), p=[.3, .3, .2, .1, .1])\n",
    "    batch_size = x[0].shape[0]\n",
    "    reshaped_output = []\n",
    "    for i in range(5):\n",
    "        if i <= choice :\n",
    "            reshaped_output.append(x[i])\n",
    "        else:\n",
    "            reshaped_output.append(torch.zeros_like(x[i]))\n",
    "    return reshaped_output, choice"
   ]
  },
  {
   "cell_type": "code",
   "execution_count": 9,
   "id": "a643365d",
   "metadata": {},
   "outputs": [],
   "source": [
    "device = torch.device(\"cuda:0\" if torch.cuda.is_available() else \"cpu\")"
   ]
  },
  {
   "cell_type": "code",
   "execution_count": 10,
   "id": "c7ff56fa",
   "metadata": {},
   "outputs": [
    {
     "name": "stdout",
     "output_type": "stream",
     "text": [
      "Files already downloaded and verified\n"
     ]
    }
   ],
   "source": [
    "dataset = CIFAR100(root='./data', download=True, transform=ToTensor())\n",
    "test_dataset = CIFAR100(root='./data', train=False, transform=ToTensor())"
   ]
  },
  {
   "cell_type": "code",
   "execution_count": 11,
   "id": "c4020b0c",
   "metadata": {},
   "outputs": [],
   "source": [
    "batch_size=32\n",
    "val_size = 5000\n",
    "train_size = len(dataset) - val_size\n",
    "train_ds, val_ds = random_split(dataset, [train_size, val_size])\n",
    "train_loader = DataLoader(train_ds, batch_size, shuffle=True, num_workers=4)\n",
    "val_loader = DataLoader(val_ds, batch_size*2, num_workers=4)\n",
    "test_loader = DataLoader(test_dataset, batch_size*2, num_workers=4)"
   ]
  },
  {
   "cell_type": "code",
   "execution_count": 12,
   "id": "ee2397d0",
   "metadata": {},
   "outputs": [
    {
     "data": {
      "text/plain": [
       "Baseline(\n",
       "  (conv1): Conv2d(3, 32, kernel_size=(3, 3), stride=(1, 1), padding=same)\n",
       "  (conv2): Conv2d(32, 32, kernel_size=(3, 3), stride=(1, 1), padding=same)\n",
       "  (pool1): MaxPool2d(kernel_size=2, stride=2, padding=0, dilation=1, ceil_mode=False)\n",
       "  (bn1): BatchNorm2d(32, eps=1e-05, momentum=0.1, affine=True, track_running_stats=True)\n",
       "  (bn2): BatchNorm2d(32, eps=1e-05, momentum=0.1, affine=True, track_running_stats=True)\n",
       "  (dropout1): Dropout(p=0.2, inplace=False)\n",
       "  (conv3): Conv2d(32, 64, kernel_size=(3, 3), stride=(1, 1), padding=same)\n",
       "  (conv4): Conv2d(64, 64, kernel_size=(3, 3), stride=(1, 1), padding=same)\n",
       "  (pool2): MaxPool2d(kernel_size=2, stride=2, padding=0, dilation=1, ceil_mode=False)\n",
       "  (bn3): BatchNorm2d(64, eps=1e-05, momentum=0.1, affine=True, track_running_stats=True)\n",
       "  (bn4): BatchNorm2d(64, eps=1e-05, momentum=0.1, affine=True, track_running_stats=True)\n",
       "  (dropout2): Dropout(p=0.3, inplace=False)\n",
       "  (conv5): Conv2d(64, 128, kernel_size=(3, 3), stride=(1, 1), padding=same)\n",
       "  (conv6): Conv2d(128, 128, kernel_size=(3, 3), stride=(1, 1), padding=same)\n",
       "  (pool3): MaxPool2d(kernel_size=2, stride=2, padding=0, dilation=1, ceil_mode=False)\n",
       "  (bn5): BatchNorm2d(128, eps=1e-05, momentum=0.1, affine=True, track_running_stats=True)\n",
       "  (bn6): BatchNorm2d(128, eps=1e-05, momentum=0.1, affine=True, track_running_stats=True)\n",
       "  (dropout3): Dropout(p=0.4, inplace=False)\n",
       "  (flatten): Flatten(start_dim=1, end_dim=-1)\n",
       "  (fc1): Linear(in_features=2048, out_features=128, bias=True)\n",
       "  (fc2): Linear(in_features=128, out_features=128, bias=True)\n",
       "  (fc3): Linear(in_features=128, out_features=128, bias=True)\n",
       "  (fc4): Linear(in_features=128, out_features=128, bias=True)\n",
       "  (bn7): BatchNorm1d(128, eps=1e-05, momentum=0.1, affine=True, track_running_stats=True)\n",
       "  (dropout4): Dropout(p=0.5, inplace=False)\n",
       "  (fc5): Linear(in_features=128, out_features=100, bias=True)\n",
       ")"
      ]
     },
     "execution_count": 12,
     "metadata": {},
     "output_type": "execute_result"
    }
   ],
   "source": [
    "baseline = Baseline().to(device)\n",
    "baseline.load_state_dict(torch.load(\"cifar100_baseline_m.h5\", map_location='cpu'))\n",
    "ee_model_name = \"cifar100_ee_m.h5\"\n",
    "baseline.eval()"
   ]
  },
  {
   "cell_type": "code",
   "execution_count": 13,
   "id": "b21dffad",
   "metadata": {
    "scrolled": false
   },
   "outputs": [
    {
     "name": "stdout",
     "output_type": "stream",
     "text": [
      "Epoch[1]: t_loss: 16.85097 t_acc: 17.63333 v_loss: 16.41305 v_acc: 23.08\n",
      "Epoch[2]: t_loss: 12.64308 t_acc: 28.72222 v_loss: 15.32467 v_acc: 26.42\n",
      "Epoch[3]: t_loss: 10.86068 t_acc: 33.67111 v_loss: 13.18464 v_acc: 26.56\n",
      "Epoch[4]: t_loss: 9.45269 t_acc: 38.63333 v_loss: 14.12759 v_acc: 27.06\n",
      "Epoch[5]: t_loss: 8.5258 t_acc: 41.58667 v_loss: 13.20477 v_acc: 28.16\n",
      "Epoch[6]: t_loss: 7.59561 t_acc: 43.92667 v_loss: 14.05838 v_acc: 29.08\n",
      "Epoch[7]: t_loss: 7.20747 t_acc: 46.13333 v_loss: 13.75427 v_acc: 32.24\n",
      "Epoch[8]: t_loss: 6.6672 t_acc: 49.18444 v_loss: 14.80252 v_acc: 30.66\n",
      "Epoch[9]: t_loss: 5.9098 t_acc: 50.93778 v_loss: 14.25201 v_acc: 31.76\n",
      "Epoch[10]: t_loss: 5.70042 t_acc: 51.68222 v_loss: 14.87569 v_acc: 31.0\n",
      "Epoch[11]: t_loss: 5.16923 t_acc: 54.09111 v_loss: 14.40767 v_acc: 30.68\n",
      "Epoch[12]: t_loss: 4.92683 t_acc: 56.76 v_loss: 12.82444 v_acc: 31.32\n",
      "Epoch[13]: t_loss: 4.49723 t_acc: 58.24444 v_loss: 14.43257 v_acc: 33.62\n",
      "Epoch[14]: t_loss: 4.25457 t_acc: 59.39556 v_loss: 14.04179 v_acc: 32.66\n",
      "Epoch[15]: t_loss: 3.98208 t_acc: 60.39333 v_loss: 14.24328 v_acc: 33.42\n",
      "Epoch[16]: t_loss: 3.77743 t_acc: 61.99333 v_loss: 13.6385 v_acc: 31.96\n",
      "Epoch[17]: t_loss: 3.65198 t_acc: 62.14889 v_loss: 14.52578 v_acc: 31.96\n",
      "Epoch[18]: t_loss: 3.45618 t_acc: 63.13556 v_loss: 13.84489 v_acc: 32.52\n",
      "Epoch[19]: t_loss: 3.25306 t_acc: 63.96667 v_loss: 13.04574 v_acc: 31.34\n",
      "Epoch[20]: t_loss: 3.15057 t_acc: 64.71111 v_loss: 13.6641 v_acc: 34.4\n",
      "Epoch[21]: t_loss: 2.96688 t_acc: 66.07111 v_loss: 13.48221 v_acc: 33.84\n",
      "Epoch[22]: t_loss: 2.95334 t_acc: 66.12889 v_loss: 13.32864 v_acc: 33.84\n",
      "Epoch[23]: t_loss: 2.75399 t_acc: 67.67111 v_loss: 13.89417 v_acc: 33.36\n",
      "Epoch[24]: t_loss: 2.67769 t_acc: 67.96222 v_loss: 13.54099 v_acc: 33.32\n",
      "Epoch[25]: t_loss: 2.62728 t_acc: 68.07556 v_loss: 13.56198 v_acc: 33.84\n",
      "Epoch[26]: t_loss: 2.50987 t_acc: 69.67333 v_loss: 13.01417 v_acc: 33.1\n",
      "Epoch[27]: t_loss: 2.38591 t_acc: 69.81556 v_loss: 14.11249 v_acc: 36.14\n",
      "Epoch[28]: t_loss: 2.40401 t_acc: 70.17333 v_loss: 14.45548 v_acc: 35.04\n",
      "Epoch[29]: t_loss: 2.23023 t_acc: 71.56444 v_loss: 13.17001 v_acc: 32.28\n",
      "Epoch[30]: t_loss: 2.16379 t_acc: 71.28444 v_loss: 14.71796 v_acc: 33.94\n",
      "Epoch[31]: t_loss: 2.08798 t_acc: 72.49111 v_loss: 13.56642 v_acc: 34.42\n",
      "Epoch[32]: t_loss: 2.04518 t_acc: 72.66222 v_loss: 13.22009 v_acc: 32.88\n",
      "Finished Training\n",
      "Best model saved at epoch:  12\n"
     ]
    }
   ],
   "source": [
    "result_dict = {}\n",
    "result_dict[\"accuracy\"] = []\n",
    "in_features = [0]\n",
    "for ii, in_feature in enumerate(in_features):\n",
    "    precisions, recall, f1 = [], [], []\n",
    "    learning_rate = 5e-3\n",
    "    exit_model = GeneralEEModel().to(device)\n",
    "    criterion = nn.CrossEntropyLoss()\n",
    "    optimizer = optim.SGD(exit_model.parameters(), lr=learning_rate, momentum=0.9)\n",
    "    epochs = 100\n",
    "    ee_model_name = \"gen_ee_cifar100_m_5_new.h5\"\n",
    "    train(baseline, exit_model, ii, epochs, criterion, optimizer, \n",
    "          train_loader, val_loader, ee_model_name, gen_ee=True)\n",
    "    exit_model.load_state_dict(torch.load(ee_model_name, map_location='cpu'))\n",
    "    exit_model.eval()\n",
    "    correct = 0\n",
    "    total = 0\n",
    "    with torch.no_grad(): \n",
    "        true_y, pred_y = [], []\n",
    "        for i, data in enumerate(test_loader):\n",
    "            images, labels = data\n",
    "            images, labels = images.to(device), labels.to(device)\n",
    "            _, outs = baseline(images)\n",
    "            outputs = exit_model(outs[:-1], inference=True)\n",
    "            _, predicted = torch.max(outputs.data, 1)\n",
    "            total += labels.size(0)\n",
    "            correct += (predicted == labels).sum().item()\n",
    "            pred_y = pred_y + list(predicted.detach().cpu().numpy())\n",
    "            true_y = true_y + list(labels.detach().cpu().numpy())\n",
    "        report = classification_report(true_y, pred_y, output_dict=True)\n",
    "        result_dict[\"accuracy\"].append(report[\"accuracy\"])\n",
    "        for i, (key, value) in enumerate(report.items()):\n",
    "            if i < 10:\n",
    "                precisions.append(value['precision'])\n",
    "                recall.append(value['recall'])\n",
    "                f1.append(value['f1-score'])\n",
    "        result_dict[ii] = {\n",
    "            'precision': precisions,\n",
    "            'recall': recall,\n",
    "            'f1': f1,\n",
    "            'conf_mat': confusion_matrix(true_y, pred_y)\n",
    "        }"
   ]
  },
  {
   "cell_type": "code",
   "execution_count": 14,
   "id": "0e4f96a4",
   "metadata": {},
   "outputs": [
    {
     "data": {
      "image/png": "[encoded data removed]",
      "text/plain": [
       "<Figure size 1500x900 with 1 Axes>"
      ]
     },
     "metadata": {},
     "output_type": "display_data"
    }
   ],
   "source": [
    "fig, ax = plt.subplots(len(in_features), 1, figsize=(15, 9))\n",
    "class_names = ['plane', 'car', 'bird', 'cat','deer', 'dog', 'frog', 'horse', 'ship', 'truck']\n",
    "bar_width = 0.25\n",
    "i = 0\n",
    "precisions = result_dict[i]['precision']\n",
    "recall = result_dict[i]['recall']\n",
    "f1 = result_dict[i]['f1']\n",
    "r1 = np.arange(len(precisions))\n",
    "r2 = [x + bar_width for x in r1]\n",
    "r3 = [x + bar_width for x in r2]\n",
    "ax.bar(r1, precisions, color='blue', width=bar_width, edgecolor='white', label='Precision')\n",
    "ax.bar(r2, recall, color='green', width=bar_width, edgecolor='white', label='Recall')\n",
    "ax.bar(r3, f1, color='orange', width=bar_width, edgecolor='white', label='F1-score')\n",
    "ax.set_title(str(i))\n",
    "ax.set_xticks([r + bar_width for r in range(len(precisions))], class_names)\n",
    "ax.grid()\n",
    "plt.xlabel('Class', fontweight='bold')\n",
    "lines_labels = [ax.get_legend_handles_labels()]\n",
    "lines, labels = [sum(lol, []) for lol in zip(*lines_labels)]\n",
    "fig.legend(lines, labels, loc=\"upper center\", ncol=3, fontsize=18)\n",
    "plt.tight_layout(pad=3)\n",
    "plt.show()"
   ]
  },
  {
   "cell_type": "code",
   "execution_count": 15,
   "id": "01111e73",
   "metadata": {},
   "outputs": [
    {
     "name": "stdout",
     "output_type": "stream",
     "text": [
      "Layer: 1 | Accuracy: 0.2462\n"
     ]
    },
    {
     "name": "stderr",
     "output_type": "stream",
     "text": [
      "/hdd/subrata/TinyML/venv/lib/python3.8/site-packages/sklearn/metrics/_classification.py:1344: UndefinedMetricWarning: Precision and F-score are ill-defined and being set to 0.0 in labels with no predicted samples. Use `zero_division` parameter to control this behavior.\n",
      "  _warn_prf(average, modifier, msg_start, len(result))\n",
      "/hdd/subrata/TinyML/venv/lib/python3.8/site-packages/sklearn/metrics/_classification.py:1344: UndefinedMetricWarning: Precision and F-score are ill-defined and being set to 0.0 in labels with no predicted samples. Use `zero_division` parameter to control this behavior.\n",
      "  _warn_prf(average, modifier, msg_start, len(result))\n",
      "/hdd/subrata/TinyML/venv/lib/python3.8/site-packages/sklearn/metrics/_classification.py:1344: UndefinedMetricWarning: Precision and F-score are ill-defined and being set to 0.0 in labels with no predicted samples. Use `zero_division` parameter to control this behavior.\n",
      "  _warn_prf(average, modifier, msg_start, len(result))\n"
     ]
    },
    {
     "name": "stdout",
     "output_type": "stream",
     "text": [
      "Layer: 2 | Accuracy: 0.3113\n",
      "Layer: 3 | Accuracy: 0.3658\n",
      "Layer: 4 | Accuracy: 0.404\n",
      "Layer: 5 | Accuracy: 0.428\n"
     ]
    }
   ],
   "source": [
    "accuracies = []\n",
    "for choice in range(5):\n",
    "    true_y, pred_y = [], []\n",
    "    for i, data in enumerate(test_loader):\n",
    "        images, labels = data\n",
    "        images, labels = images.to(device), labels.to(device)\n",
    "        _, outs = baseline(images)\n",
    "        outs, _ = simulate_exit(outs, choice=choice)\n",
    "        outputs = exit_model(outs)\n",
    "        _, predicted = torch.max(outputs.data, 1)\n",
    "        total += labels.size(0)\n",
    "        correct += (predicted == labels).sum().item()\n",
    "        pred_y = pred_y + list(predicted.detach().cpu().numpy())\n",
    "        true_y = true_y + list(labels.detach().cpu().numpy())\n",
    "    report = classification_report(true_y, pred_y, output_dict=True)\n",
    "    accuracies.append(report[\"accuracy\"])\n",
    "    print(f'Layer: {choice+1} | Accuracy: {report[\"accuracy\"]}')"
   ]
  },
  {
   "cell_type": "code",
   "execution_count": 16,
   "id": "785a5b2d",
   "metadata": {},
   "outputs": [
    {
     "data": {
      "text/plain": [
       "[0.2462, 0.3113, 0.3658, 0.404, 0.428]"
      ]
     },
     "execution_count": 16,
     "metadata": {},
     "output_type": "execute_result"
    }
   ],
   "source": [
    "accuracies"
   ]
  },
  {
   "cell_type": "code",
   "execution_count": null,
   "id": "e1e3ff87",
   "metadata": {},
   "outputs": [],
   "source": []
  }
 ],
 "metadata": {
  "kernelspec": {
   "display_name": "Python 3 (ipykernel)",
   "language": "python",
   "name": "python3"
  },
  "language_info": {
   "codemirror_mode": {
    "name": "ipython",
    "version": 3
   },
   "file_extension": ".py",
   "mimetype": "text/x-python",
   "name": "python",
   "nbconvert_exporter": "python",
   "pygments_lexer": "ipython3",
   "version": "3.8.10"
  }
 },
 "nbformat": 4,
 "nbformat_minor": 5
}
